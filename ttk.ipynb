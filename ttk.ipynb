{
 "cells": [
  {
   "cell_type": "markdown",
   "id": "0d7c7b6e-5b1e-4b41-88a7-c1c99bd00b04",
   "metadata": {},
   "source": [
    "# Old School RuneScape Time-To-Kill Calculations"
   ]
  },
  {
   "cell_type": "code",
   "execution_count": 156,
   "id": "e94fb764-a11b-467c-9452-9fe886ae4d05",
   "metadata": {},
   "outputs": [],
   "source": [
    "import functools\n",
    "import matplotlib.pyplot as plt\n",
    "import numpy as np\n",
    "from abc import ABC, abstractmethod\n",
    "from dataclasses import dataclass\n",
    "import math"
   ]
  },
  {
   "cell_type": "markdown",
   "id": "21f0ab50-4449-494e-a6d8-130ff6aa3dc1",
   "metadata": {},
   "source": [
    "TODO: Introduction\n",
    "\n",
    "- Time-to-kill: DPS is not everything if you're speedrunning\n",
    "  - Can ignore delay imposed on last hit\n",
    "  - Overkill\n",
    "  - Optimizing for potential, not average performance"
   ]
  },
  {
   "cell_type": "markdown",
   "id": "0aa5e4db-69b0-4cf0-aede-d6e3e11aef01",
   "metadata": {},
   "source": [
    "Damage in OSRS is calculated using a two-step process. The first step is the accuracy roll: we sample from a Bernoulli distribution with parameter $p$. If the value is 0, the attack misses and the damage is 0. If the roll is successfull, the damage is sampled from $U[0, d_\\textrm{max}]$, where $d_\\textrm{max}$ is the max hit of the weapon."
   ]
  },
  {
   "cell_type": "code",
   "execution_count": 157,
   "id": "ed20d623-1613-4f6b-bb4f-6298561c8508",
   "metadata": {},
   "outputs": [],
   "source": [
    "class SingleHit:\n",
    "    def __init__(self, prob_hit: float, max_hit: int):\n",
    "        self.prob_hit = prob_hit\n",
    "        self.max_hit = max_hit\n",
    "    \n",
    "    def support(self):\n",
    "        return range(0, self.max_hit + 1)\n",
    "\n",
    "    def prob(self, damage):\n",
    "        if not 0 <= damage <= self.max_hit:\n",
    "            return 0\n",
    "\n",
    "        p_hit = self.prob_hit / (self.max_hit + 1)\n",
    "\n",
    "        # Two ways of rolling a zero: fail accuracy roll or pass accuracy roll and roll a 0.\n",
    "        if damage == 0:\n",
    "            return (1 - self.prob_hit) + p_hit\n",
    "\n",
    "        return p_hit"
   ]
  },
  {
   "cell_type": "markdown",
   "id": "61637f0e-466f-437d-b3fd-3a52a55d642c",
   "metadata": {},
   "source": [
    "For scythes, the single-hitsplat logic is repeated three times. They share the same accuracy but have different max values. One hit is at full power, one at half of that and one at 0.25 times the full power, rounded down. The hits are independent. Using this we can compute the distribution for the total damage done by a scythe swing as a convolution."
   ]
  },
  {
   "cell_type": "code",
   "execution_count": 158,
   "id": "586887e9-9382-4a84-8c12-6c164593e053",
   "metadata": {},
   "outputs": [],
   "source": [
    "class Convolution:\n",
    "    def __init__(self, u, v):\n",
    "        self.u = u\n",
    "        self.v = v\n",
    " \n",
    "    def support(self):\n",
    "        return range(self.u.support()[0] + self.v.support()[0], self.u.support()[-1] + self.v.support()[-1] + 1)\n",
    "\n",
    "    @functools.lru_cache(maxsize=None)\n",
    "    def prob(self, x: int):\n",
    "        return sum([self.u.prob(i) * self.v.prob(x - i) for i in self.u.support()])\n",
    "\n",
    "    @staticmethod\n",
    "    def convolve_all(*distributions):\n",
    "        assert len(distributions) >= 2\n",
    "\n",
    "        convolved = distributions[0]\n",
    "\n",
    "        for distribution in distributions[1:]:\n",
    "            convolved = Convolution(convolved, distribution)\n",
    "            \n",
    "        return convolved"
   ]
  },
  {
   "cell_type": "markdown",
   "id": "460b70f2-e77d-4618-a915-8df48e2bef50",
   "metadata": {},
   "source": [
    "We now move on to defining parameters for the toxic blowpipe and the scythe, using fairly standard inferno speedrunning setups. We also define a ranger (Jal-Xil) as a target because they seem to have the funkiest strategies."
   ]
  },
  {
   "cell_type": "code",
   "execution_count": 167,
   "id": "bf433d66-08c3-4ca6-803e-30a62e26565a",
   "metadata": {},
   "outputs": [],
   "source": [
    "MOB_HEALTH = 130\n",
    "\n",
    "SCYTHE_ACC = 0.9398\n",
    "SCYTHE_MAX = 51\n",
    "\n",
    "PIPE_ACC = 0.9461\n",
    "PIPE_MAX = 35\n",
    "\n",
    "scythe = Convolution.convolve_all(\n",
    "    SingleHit(SCYTHE_ACC, SCYTHE_MAX),\n",
    "    SingleHit(SCYTHE_ACC, int(0.5 * SCYTHE_MAX)),\n",
    "    SingleHit(SCYTHE_ACC, int(0.25 * SCYTHE_MAX)),\n",
    ")\n",
    "\n",
    "pipe = SingleHit(PIPE_ACC, PIPE_MAX)\n",
    "\n",
    "weapons = [(pipe, 2), (scythe, 5)]"
   ]
  },
  {
   "cell_type": "markdown",
   "id": "b8eef927-005c-41b7-a9da-3f49d4a6e4c3",
   "metadata": {},
   "source": [
    "The time to kill satisfies the recursive equation\n",
    "$$\\textrm{ttk}[x] = \\mathbb{E}\\left[ c(H) + \\textrm{ttk}[\\max(x - H, 0)] \\right]$$\n",
    "where\n",
    "$$c(h) = \\begin{cases} \n",
    "    0 & \\textrm{if } x - h \\leq 0 \\\\\n",
    "    t & \\textrm{otherwise.}\n",
    "\\end{cases}$$\n",
    "\n",
    "This cost definition is crucial for interesting strategies to emerge. We are not interested in the cooldown duration after the last mob is killed, because this time is spent waiting in-between waves anwyay.\n",
    "\n",
    "Implementing this directly using recursive dynamic programming is problematic because we can transition back to the current problem in the case where we hit a zero. We can work around this by expanding the expectation and rearranging as\n",
    "$$\\textrm{ttk}[x] = P(H = 0) \\textrm{ttk}[x] + \\sum_{h=1}^{h_\\textrm{max}} P(H = h) c(x - h) $$\n",
    "Here, as long as $P(H = 0) > 0$, in each state we have an $P(H = 0)$-contraction in $\\mathbb{R}$. We can use this formula as an iterative update rule (similar to value iteration, but with only a single state) or solve it directly. To solve it directly, we see that $x = \\alpha x + c \\Rightarrow x = \\frac{c}{1-\\alpha}$. Thus, we can compute the sum and then handle the self-recurrence by adding a correction term."
   ]
  },
  {
   "cell_type": "code",
   "execution_count": 169,
   "id": "2dcff2d2-b5e0-47ec-b18c-e404a2ab1db2",
   "metadata": {},
   "outputs": [
    {
     "name": "stdout",
     "output_type": "stream",
     "text": [
      "13.486017909130018\n",
      "[None, 1, 1, 1, 1, 1, 1, 1, 1, 1, 1, 1, 1, 1, 1, 1, 1, 1, 1, 1, 1, 1, 1, 1, 1, 1, 1, 1, 1, 1, 1, 1, 1, 1, 1, 1, 1, 1, 1, 1, 1, 1, 1, 1, 1, 1, 1, 1, 1, 1, 1, 1, 1, 1, 1, 1, 1, 0, 0, 0, 0, 0, 0, 0, 0, 0, 0, 0, 0, 0, 0, 0, 0, 0, 0, 0, 0, 0, 0, 0, 0, 0, 0, 0, 0, 0, 0, 0, 0, 0, 0, 0, 0, 0, 0, 0, 0, 0, 0, 0, 0, 0, 0, 0, 0, 0, 0, 0, 0, 0, 0, 0, 0, 0, 0, 0, 0, 0, 0, 0, 0, 0, 0, 0, 0, 0, 0, 0, 0, 0, 0]\n"
     ]
    }
   ],
   "source": [
    "time_to_kill = [math.inf for i in range(MOB_HEALTH + 1)]\n",
    "best_weapon = [None for i in range(MOB_HEALTH + 1)]\n",
    "\n",
    "time_to_kill[0] = 0\n",
    "\n",
    "for hp in range(1, MOB_HEALTH + 1):\n",
    "    for i, (dist, delay) in enumerate(weapons):\n",
    "        value = 0\n",
    "\n",
    "        for hit in dist.support()[1:]:\n",
    "            value += dist.prob(hit) * ((delay if hp - hit > 0 else 0) + time_to_kill[max(hp - hit, 0)])\n",
    "\n",
    "        value = (value + delay * dist.prob(0)) / (1 - dist.prob(0))\n",
    "            \n",
    "        if value < time_to_kill[hp]:\n",
    "            time_to_kill[hp] = value\n",
    "            best_weapon[hp] = i\n",
    "\n",
    "print(time_to_kill[-1])\n",
    "print(best_weapon)"
   ]
  },
  {
   "cell_type": "markdown",
   "id": "ced41766-2f4b-4a43-a4f2-be75c4beaf44",
   "metadata": {},
   "source": [
    "We see that the time to kill using optimal switching is approximately 13.49 ticks and that the strategy consists of piping first and then scything. Other armour leads to strategies such as scything, piping, then scything again.\n",
    "\n",
    "This is the average time-to-kill. The underlying distribution is called a phase-type distribution. Statisticians fool around with matrices to compute those but I found that an absolutely miserable endeavour. It probably makes sense in some cases but we have a very structured problem where there are self-loops but no loops back to a higher hitpoint, which allows us to continue with simple dynamic programming.\n",
    "\n",
    "We have a similar recurrence for the probability of the TTK being a certain value.\n",
    "\n",
    "I should also explain this."
   ]
  },
  {
   "cell_type": "code",
   "execution_count": 171,
   "id": "e89736f1-9633-4e5a-abc2-09b870a97777",
   "metadata": {},
   "outputs": [
    {
     "data": {
      "text/plain": [
       "[<matplotlib.lines.Line2D at 0x7f157b085a00>]"
      ]
     },
     "execution_count": 171,
     "metadata": {},
     "output_type": "execute_result"
    },
    {
     "data": {
      "image/png": "[encoded data removed]",
      "text/plain": [
       "<Figure size 432x288 with 1 Axes>"
      ]
     },
     "metadata": {
      "needs_background": "light"
     },
     "output_type": "display_data"
    }
   ],
   "source": [
    "@functools.lru_cache(maxsize=None)\n",
    "def p(ttk, hp):\n",
    "    if hp <= 0:\n",
    "        return 0\n",
    "\n",
    "    if ttk < 0:\n",
    "        return 0\n",
    "\n",
    "    dist, delay = weapons[best_weapon[hp]]\n",
    "\n",
    "    if ttk == 0:\n",
    "        return sum(dist.prob(hit) if hp - hit <= 0 else 0 for hit in dist.support())\n",
    "\n",
    "    return sum(dist.prob(hit) * p(ttk - delay, hp - hit) for hit in dist.support())\n",
    "\n",
    "x_values = range(50)\n",
    "y_values = [p(x, MOB_HEALTH) for x in x_values]\n",
    "plt.plot(x_values, y_values)"
   ]
  },
  {
   "cell_type": "markdown",
   "id": "6dbbd54f-9fc1-461d-a936-2269e45795db",
   "metadata": {},
   "source": [
    "Another interesting problem is to consider other optimization problems than average time-to-kill. For example, we might want to maximize our chance of breaking the world-record speedrun of some boss using intricate weapon selections.\n",
    "\n",
    "We can solve this using dynamic programming by giving a reward of 1 for breaking the target and 0 otherwise. Solving this MDP using dynamic programming yields a policy which maximizes the expected reward, i.e. maximizing the probability of making the cutoff.\n",
    "\n",
    "Note that in this case we need a non-stationary policy - one that depends on the amount of time the agent has left to make the cutoff."
   ]
  },
  {
   "cell_type": "code",
   "execution_count": 174,
   "id": "85974456-e71e-4cac-83ac-bd67907ddb25",
   "metadata": {},
   "outputs": [
    {
     "name": "stdout",
     "output_type": "stream",
     "text": [
      "[[None, None, None, None, None, None, None, None, None, None, None], [None, 0, 0, 0, 0, 0, 0, 0, 0, 0, 0], [None, 0, 0, 0, 0, 0, 0, 0, 0, 0, 0], [None, 0, 0, 0, 0, 0, 0, 0, 0, 0, 0], [None, 0, 0, 0, 0, 0, 0, 0, 0, 0, 0], [None, 0, 0, 0, 0, 0, 0, 0, 0, 0, 0], [None, 0, 0, 0, 0, 0, 0, 0, 0, 0, 0], [None, 0, 0, 0, 0, 0, 0, 0, 0, 0, 0], [None, 0, 0, 0, 0, 0, 0, 0, 0, 0, 0], [None, 0, 0, 0, 0, 0, 0, 0, 0, 0, 0], [None, 0, 0, 0, 0, 0, 0, 0, 0, 0, 0], [None, 0, 0, 0, 0, 0, 0, 0, 0, 0, 0], [None, 0, 0, 0, 0, 0, 0, 0, 0, 0, 0], [None, 0, 0, 0, 0, 0, 0, 0, 0, 0, 0], [None, 0, 0, 0, 0, 0, 0, 0, 0, 0, 0], [None, 0, 0, 0, 0, 0, 0, 0, 0, 0, 0], [None, 0, 0, 0, 0, 0, 0, 0, 0, 0, 0], [None, 0, 0, 0, 0, 0, 0, 0, 0, 0, 0], [None, 0, 0, 0, 0, 0, 0, 0, 0, 0, 0], [None, 0, 0, 0, 0, 0, 0, 0, 0, 0, 0], [None, 0, 0, 0, 0, 0, 0, 0, 0, 0, 0], [None, 0, 0, 0, 0, 0, 0, 0, 0, 0, 0], [None, 0, 0, 0, 0, 0, 0, 0, 0, 0, 0], [None, 0, 0, 0, 0, 0, 0, 0, 0, 0, 0], [None, 0, 0, 0, 0, 0, 0, 0, 0, 0, 0], [None, 0, 0, 0, 0, 0, 0, 0, 0, 0, 0], [None, 0, 0, 0, 0, 0, 0, 0, 0, 0, 0], [None, 0, 0, 0, 0, 0, 0, 0, 0, 0, 0], [None, 0, 0, 0, 0, 0, 0, 0, 0, 0, 0], [None, 0, 0, 0, 0, 0, 0, 0, 0, 0, 0], [None, 0, 0, 0, 0, 0, 0, 0, 0, 0, 0], [None, 0, 0, 0, 0, 0, 0, 0, 0, 0, 0], [None, 0, 0, 0, 0, 0, 0, 0, 0, 0, 0], [None, 0, 0, 0, 0, 0, 0, 0, 0, 0, 0], [None, 0, 0, 0, 0, 0, 0, 0, 0, 0, 0], [None, 0, 0, 0, 0, 0, 0, 0, 0, 0, 0], [None, 1, 1, 0, 0, 0, 0, 0, 0, 0, 0], [None, 1, 1, 0, 0, 0, 0, 0, 0, 0, 0], [None, 1, 1, 0, 0, 0, 0, 0, 0, 0, 0], [None, 1, 1, 0, 0, 0, 0, 0, 0, 0, 0], [None, 1, 1, 0, 0, 0, 0, 0, 0, 0, 0], [None, 1, 1, 0, 0, 0, 0, 0, 0, 0, 0], [None, 1, 1, 0, 0, 0, 0, 0, 0, 0, 0], [None, 1, 1, 0, 0, 0, 0, 0, 0, 0, 0], [None, 1, 1, 0, 0, 0, 0, 0, 0, 0, 0], [None, 1, 1, 0, 0, 0, 0, 0, 0, 0, 0], [None, 1, 1, 0, 0, 0, 0, 0, 0, 0, 0], [None, 1, 1, 0, 0, 0, 0, 0, 0, 0, 0], [None, 1, 1, 0, 0, 0, 0, 0, 0, 0, 0], [None, 1, 1, 0, 0, 0, 0, 0, 0, 0, 0], [None, 1, 1, 0, 0, 0, 0, 0, 0, 0, 0], [None, 1, 1, 0, 0, 0, 0, 0, 0, 0, 0], [None, 1, 1, 0, 0, 0, 1, 0, 0, 0, 0], [None, 1, 1, 0, 0, 0, 1, 0, 0, 0, 0], [None, 1, 1, 0, 0, 0, 1, 0, 0, 0, 0], [None, 1, 1, 0, 0, 0, 1, 0, 0, 0, 0], [None, 1, 1, 0, 0, 0, 1, 0, 0, 0, 0], [None, 1, 1, 0, 0, 0, 1, 0, 1, 0, 0], [None, 1, 1, 0, 0, 0, 1, 0, 1, 0, 0], [None, 1, 1, 0, 0, 0, 1, 0, 1, 0, 0], [None, 1, 1, 0, 0, 0, 1, 0, 1, 0, 0], [None, 1, 1, 0, 0, 0, 1, 0, 1, 0, 1], [None, 1, 1, 0, 0, 0, 1, 0, 1, 0, 1], [None, 1, 1, 0, 0, 0, 1, 0, 1, 0, 1], [None, 1, 1, 0, 0, 0, 1, 0, 1, 0, 1], [None, 1, 1, 0, 0, 0, 1, 0, 1, 0, 1], [None, 1, 1, 0, 0, 0, 1, 0, 1, 0, 1], [None, 1, 1, 0, 0, 0, 1, 0, 1, 0, 1], [None, 1, 1, 0, 0, 0, 1, 0, 1, 0, 1], [None, 1, 1, 0, 0, 0, 1, 0, 1, 0, 1], [None, 1, 1, 0, 0, 0, 1, 0, 1, 0, 1], [None, 1, 1, 0, 0, 0, 1, 0, 1, 0, 1], [None, 1, 1, 0, 0, 0, 1, 0, 1, 0, 1], [None, 1, 1, 0, 0, 0, 1, 0, 1, 0, 1], [None, 1, 1, 0, 0, 0, 1, 0, 1, 0, 1], [None, 1, 1, 0, 0, 0, 1, 0, 1, 0, 1], [None, 1, 1, 0, 0, 0, 1, 0, 1, 0, 1], [None, 1, 1, 0, 0, 0, 1, 0, 1, 0, 1], [None, 1, 1, 0, 0, 0, 1, 0, 1, 0, 1], [None, 1, 1, 0, 0, 0, 1, 0, 1, 0, 1], [None, 1, 1, 0, 0, 0, 1, 0, 1, 0, 1], [None, 1, 1, 0, 0, 0, 1, 0, 1, 0, 1], [None, 1, 1, 0, 0, 0, 1, 0, 1, 0, 1], [None, 1, 1, 0, 0, 0, 1, 0, 1, 0, 1], [None, 1, 1, 0, 0, 0, 1, 0, 1, 0, 1], [None, 1, 1, 0, 0, 0, 1, 0, 1, 0, 1], [None, 1, 1, 0, 0, 0, 1, 0, 1, 0, 1], [None, 1, 1, 0, 0, 0, 1, 0, 1, 0, 0], [None, 1, 1, 0, 0, 0, 1, 0, 1, 0, 0], [None, None, None, 0, 0, 0, 1, 0, 0, 0, 0], [None, None, None, 0, 0, 0, 1, 0, 1, 0, 0], [None, None, None, 0, 0, 0, 1, 0, 0, 0, 0], [None, None, None, 0, 0, 0, 1, 0, 1, 0, 0], [None, None, None, 0, 0, 0, 1, 0, 1, 0, 1], [None, None, None, 0, 0, 0, 1, 0, 1, 0, 0], [None, None, None, 0, 0, 0, 1, 0, 1, 0, 1], [None, None, None, 0, 0, 0, 1, 0, 0, 0, 0], [None, None, None, 0, 0, 0, 1, 0, 0, 0, 1], [None, None, None, 0, 0, 0, 1, 0, 0, 0, 0], [None, None, None, 0, 0, 0, 1, 0, 1, 0, 0], [None, None, None, 0, 0, 0, 1, 0, 0, 0, 0], [None, None, None, 0, 0, 0, 1, 0, 0, 0, 0], [None, None, None, 0, 0, 0, 1, 0, 0, 0, 0], [None, None, None, 0, 0, 0, 1, 0, 0, 0, 0], [None, None, None, 0, 0, 0, 1, 0, 1, 0, 0], [None, None, None, 0, 0, 0, 1, 0, 1, 0, 0], [None, None, None, 0, 0, 0, 1, 0, 0, 0, 0], [None, None, None, 0, 0, 0, 1, 0, 0, 0, 0], [None, None, None, 0, 0, 0, 1, 0, 1, 0, 0], [None, None, None, 0, 0, 0, 1, 0, 0, 0, 0], [None, None, None, 0, 0, 0, 1, 0, 0, 0, 0], [None, None, None, 0, 0, 0, 1, 0, 1, 0, 0], [None, None, None, 0, 0, 0, 1, 0, 0, 0, 0], [None, None, None, 0, 0, 0, 1, 0, 0, 0, 0], [None, None, None, 0, 0, 0, 1, 0, 0, 0, 0], [None, None, None, 0, 0, 0, 1, 0, 0, 0, 0], [None, None, None, 0, 0, 0, 1, 0, 0, 0, 0], [None, None, None, 0, 0, 0, 1, 0, 0, 0, 1], [None, None, None, 0, 0, 0, 1, 0, 0, 0, 0], [None, None, None, 0, 0, 0, 1, 0, 0, 0, 1], [None, None, None, 0, 0, 0, 1, 0, 1, 0, 0], [None, None, None, 0, 0, 0, 1, 0, 0, 0, 0], [None, None, None, 0, 0, 0, 1, 0, 0, 0, 0], [None, None, None, 0, 0, 0, 1, 0, 0, 0, 0], [None, None, None, None, None, 0, 1, 0, 1, 0, 0], [None, None, None, None, None, 0, 1, 0, 1, 0, 0], [None, None, None, None, None, 0, 1, 0, 0, 0, 0], [None, None, None, None, None, 0, 1, 0, 0, 0, 0], [None, None, None, None, None, 0, 1, 0, 0, 0, 0], [None, None, None, None, None, 0, 1, 0, 0, 0, 0], [None, None, None, None, None, 0, 1, 0, 0, 0, 1]]\n"
     ]
    }
   ],
   "source": [
    "target_ticks = 10\n",
    "\n",
    "reward = [[0 for j in range(target_ticks + 1)] for i in range(MOB_HEALTH + 1)]\n",
    "best_weapon = [[None for j in range(target_ticks + 1)] for i in range(MOB_HEALTH + 1)]\n",
    "\n",
    "for hp in range(1, MOB_HEALTH + 1):\n",
    "    for remaining_ticks in range(1, target_ticks + 1):\n",
    "        for i, (dist, delay) in enumerate(weapons):\n",
    "            value = 0\n",
    "\n",
    "            for hit in dist.support():\n",
    "                value += dist.prob(hit) * ((1 if hp - hit == 0 else 0) + reward[max(hp - hit, 0)][max(remaining_ticks - delay, 0)])        \n",
    "                \n",
    "            if value > reward[hp][remaining_ticks]:\n",
    "                reward[hp][remaining_ticks] = value\n",
    "                best_weapon[hp][remaining_ticks] = i\n",
    "                \n",
    "print(best_weapon)"
   ]
  },
  {
   "cell_type": "markdown",
   "id": "b7ec917a-e210-47d7-bc49-c50cf910f0c9",
   "metadata": {},
   "source": [
    "TODO - Visualise this policy"
   ]
  }
 ],
 "metadata": {
  "kernelspec": {
   "display_name": "Python 3",
   "language": "python",
   "name": "python3"
  },
  "language_info": {
   "codemirror_mode": {
    "name": "ipython",
    "version": 3
   },
   "file_extension": ".py",
   "mimetype": "text/x-python",
   "name": "python",
   "nbconvert_exporter": "python",
   "pygments_lexer": "ipython3",
   "version": "3.8.8"
  }
 },
 "nbformat": 4,
 "nbformat_minor": 5
}
